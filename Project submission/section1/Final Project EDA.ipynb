{
 "cells": [
  {
   "cell_type": "markdown",
   "metadata": {},
   "source": [
    "# Preparing the dataset for hippocampus segmentation\n",
    "\n",
    "In this notebook you will use the skills and methods that we have talked about during our EDA Lesson to prepare the hippocampus dataset using Python. Follow the Notebook, writing snippets of code where directed so using Task comments, similar to the one below, which expects you to put the proper imports in place. Write your code directly in the cell with TASK comment. Feel free to add cells as you see fit, but please make sure that code that performs that tasked activity sits in the same cell as the Task comment.\n"
   ]
  },
  {
   "cell_type": "code",
   "execution_count": 1,
   "metadata": {},
   "outputs": [
    {
     "name": "stdout",
     "output_type": "stream",
     "text": [
      "Defaulting to user installation because normal site-packages is not writeable\n",
      "Requirement already satisfied: pandas in /root/.local/lib/python3.8/site-packages (1.3.2)\n",
      "Requirement already satisfied: python-dateutil>=2.7.3 in /root/miniconda3/envs/medai/lib/python3.8/site-packages (from pandas) (2.8.1)\n",
      "Requirement already satisfied: pytz>=2017.3 in /root/.local/lib/python3.8/site-packages (from pandas) (2021.1)\n",
      "Requirement already satisfied: numpy>=1.17.3 in /root/miniconda3/envs/medai/lib/python3.8/site-packages (from pandas) (1.18.1)\n",
      "Requirement already satisfied: six>=1.5 in /root/miniconda3/envs/medai/lib/python3.8/site-packages (from python-dateutil>=2.7.3->pandas) (1.14.0)\n",
      "Note: you may need to restart the kernel to use updated packages.\n"
     ]
    }
   ],
   "source": [
    "pip install pandas"
   ]
  },
  {
   "cell_type": "code",
   "execution_count": 2,
   "metadata": {},
   "outputs": [],
   "source": [
    "\n",
    "import numpy as np\n",
    "import nibabel as nib\n",
    "import os, shutil\n",
    "from os import listdir\n",
    "from os.path import isfile, join\n",
    "import matplotlib.pyplot as plt\n",
    "%matplotlib inline\n",
    "plt.rcParams[\"figure.figsize\"] = (10,10)\n"
   ]
  },
  {
   "cell_type": "markdown",
   "metadata": {},
   "source": [
    "It will help your understanding of the data a lot if you were able to use a tool that allows you to view NIFTI volumes, like [3D Slicer](https://www.slicer.org/). I will refer to Slicer throughout this Notebook and will be pasting some images showing what your output might look like."
   ]
  },
  {
   "cell_type": "markdown",
   "metadata": {},
   "source": [
    "## Loading NIFTI images using NiBabel\n",
    "\n",
    "NiBabel is a python library for working with neuro-imaging formats (including NIFTI) that we have used in some of the exercises throughout the course. Our volumes and labels are in NIFTI format, so we will use nibabel to load and inspect them.\n",
    "\n",
    "NiBabel documentation could be found here: https://nipy.org/nibabel/\n",
    "\n",
    "Our dataset sits in two directories - *images* and *labels*. Each image is represented by a single file (we are fortunate to have our data converted to NIFTI) and has a corresponding label file which is named the same as the image file.\n",
    "\n",
    "Note that our dataset is \"dirty\". There are a few images and labels that are not quite right. They should be quite obvious to notice, though. The dataset contains an equal amount of \"correct\" volumes and corresponding labels, and you don't need to alter values of any samples in order to get the clean dataset."
   ]
  },
  {
   "cell_type": "code",
   "execution_count": 3,
   "metadata": {},
   "outputs": [
    {
     "name": "stdout",
     "output_type": "stream",
     "text": [
      "The 3 first paths in:\n",
      "\"images\" folder: \n",
      "['hippocampus_001.nii.gz', 'hippocampus_003.nii.gz', 'hippocampus_004.nii.gz']\n",
      "\"labels\" folder: \n",
      "['hippocampus_001.nii.gz', 'hippocampus_003.nii.gz', 'hippocampus_004.nii.gz'] \n",
      "\n",
      "There are total: \n",
      "263 images in \"images\" folder \n",
      "262 images in \"labels\" folder\n"
     ]
    }
   ],
   "source": [
    "# TASK: Your data sits in directory /data/TrainingSet.\n",
    "# Load all images and segmentation mask paths into lists called images_paths and labels_paths\n",
    "path_main = '/data/TrainingSet'\n",
    "images_path_main = os.path.join(path_main, 'images')\n",
    "labels_path_main = os.path.join(path_main, 'labels')\n",
    "images_paths = [f for f in sorted(os.listdir(images_path_main)) if 'nii' in f]\n",
    "labels_paths = [f for f in sorted(os.listdir(labels_path_main)) if 'nii' in f]\n",
    "print(\"The 3 first paths in:\")\n",
    "print(f'\"images\" folder: \\n{images_paths[:3]}')\n",
    "print(f'\"labels\" folder: \\n{labels_paths[:3]} \\n')\n",
    "print(f'There are total: \\n{len(images_paths)} images in \"images\" folder \\n{len(labels_paths)} images in \"labels\" folder')"
   ]
  },
  {
   "cell_type": "code",
   "execution_count": 4,
   "metadata": {},
   "outputs": [
    {
     "name": "stdout",
     "output_type": "stream",
     "text": [
      "Outliers paths due to file naming in:\n",
      "\"images\" folder: \n",
      "['hippocampus_118.nii.gz']\n",
      "\"labels\" folder: \n",
      "[] \n",
      "\n",
      "There are total: \n",
      "262 images in \"image\" folder \n",
      "262 images in \"labels\" folder\n"
     ]
    }
   ],
   "source": [
    "# there is a different number of the images in the images and labels folders\n",
    "# the names are matching in these folders, so they belong to the same study\n",
    "\n",
    "# let's review and remove any files from the list which don't have a corresponding label or vs\n",
    "outlier_images_paths = []\n",
    "outlier_labels_paths = []\n",
    "for images_path_tmp in images_paths:\n",
    "    if images_path_tmp not in labels_paths:\n",
    "        outlier_images_paths.append(images_path_tmp)\n",
    "        images_paths.remove(images_path_tmp)\n",
    "for labels_path_tmp in labels_paths:\n",
    "    if labels_path_tmp not in images_paths:\n",
    "        outlier_labels_paths.append(labels_path_tmp)\n",
    "        labels_paths.remove(labels_path_tmp)\n",
    "print(\"Outliers paths due to file naming in:\")\n",
    "print(f'\"images\" folder: \\n{outlier_images_paths}')\n",
    "print(f'\"labels\" folder: \\n{outlier_labels_paths} \\n')\n",
    "print(f'There are total: \\n{len(images_paths)} images in \"image\" folder \\n{len(labels_paths)} images in \"labels\" folder')"
   ]
  },
  {
   "cell_type": "code",
   "execution_count": 5,
   "metadata": {},
   "outputs": [],
   "source": [
    "# Load an image and a segmentation mask into variables called image and label\n",
    "\n",
    "# let's load the first image and it's corresponding label and check the np array size\n",
    "image = nib.load(os.path.join(images_path_main, images_paths[0])).get_fdata()\n",
    "label = nib.load(os.path.join(labels_path_main, labels_paths[0])).get_fdata()\n"
   ]
  },
  {
   "cell_type": "code",
   "execution_count": 6,
   "metadata": {},
   "outputs": [],
   "source": [
    "# Nibabel can present your image data as a Numpy array by calling the method get_fdata()\n",
    "# The array will contain a multi-dimensional Numpy array with numerical values representing voxel intensities. \n",
    "# In our case, images and labels are 3-dimensional, so get_fdata will return a 3-dimensional array. You can verify this\n",
    "# by accessing the .shape attribute. What are the dimensions of the input arrays?\n"
   ]
  },
  {
   "cell_type": "code",
   "execution_count": 7,
   "metadata": {},
   "outputs": [
    {
     "name": "stdout",
     "output_type": "stream",
     "text": [
      "The dimensions of the input arrays:\n",
      "Image \"hippocampus_001.nii.gz\" has size: (35, 51, 35)\n",
      "Label \"hippocampus_001.nii.gz\" has size: (35, 51, 35)\n"
     ]
    }
   ],
   "source": [
    "#What are the dimensions of the input arrays?\n",
    "print('The dimensions of the input arrays:')\n",
    "print(f'Image \"{images_paths[0].split(os.sep)[-1]}\" has size: {image.shape}')\n",
    "print(f'Label \"{labels_paths[0].split(os.sep)[-1]}\" has size: {label.shape}')"
   ]
  },
  {
   "cell_type": "code",
   "execution_count": 8,
   "metadata": {},
   "outputs": [],
   "source": [
    "# TASK: using matplotlib, visualize a few slices from the dataset, along with their labels. \n",
    "# You can adjust plot sizes like so if you find them too small:\n",
    "# plt.rcParams[\"figure.figsize\"] = (10,10)\n",
    "\n",
    "# Use matplotlib, visualize a few slices from the dataset, along with their labels. \n",
    "\n",
    "# Let's write a function to show all 3 views of the image and it's corresponding label\n",
    "def show_n_slices(images_arr, labels_arr, slices=None, aspect_ratio = [1, 1, 1]):\n",
    "    '''\n",
    "    This function visualize N slices along with their labesl\n",
    "    images_arr: numpy array of the image\n",
    "    labels_arr: numpy array of the label\n",
    "    slices: list of the slices of interest (integers) [axial, coronal, sagittal] to visualize\n",
    "    if None, would show the central slices\n",
    "    aspect_ratio: list of aspect ratios for axial, coronal, sagittal ([1,1,1] is default)\n",
    "    '''\n",
    "    images_arr = np.flip(images_arr.T)\n",
    "    labels_arr = np.flip(labels_arr.T)\n",
    "    \n",
    "    ax_slices = images_arr.shape[0]\n",
    "    cor_slices = images_arr.shape[1]\n",
    "    sag_slices = images_arr.shape[2]\n",
    "\n",
    "    fig, ax = plt.subplots(2, 3, figsize=[10,6], constrained_layout=True)\n",
    "    \n",
    "    if slices is None:\n",
    "        slice_ax_n = int(images_arr.shape[0] / 2)\n",
    "        slice_cor_n = int(images_arr.shape[1] / 2)\n",
    "        slice_sag_n = int(images_arr.shape[2] / 2)\n",
    "    elif (slices[0] <= images_arr.shape[0]) & (slices[1] <= images_arr.shape[1]) & (slices[2] <= images_arr.shape[2]):\n",
    "        slice_ax_n = int(slices[0])\n",
    "        slice_cor_n = int(slices[1])\n",
    "        slice_sag_n = int(slices[2])     \n",
    "    else:\n",
    "        return print('Wrong slices set')\n",
    "    \n",
    "    ax[0, 0].set_title(f'Axial slice {slice_ax_n}')\n",
    "    ax[0, 0].imshow(images_arr[slice_ax_n, :, :], cmap='gray', \\\n",
    "                                  aspect = aspect_ratio[0], )\n",
    "    ax[1, 0].set_title(f'Label for axial slice {slice_ax_n}')\n",
    "    ax[1, 0].imshow(labels_arr[slice_ax_n, :, :], cmap='gray', \\\n",
    "                                  aspect = aspect_ratio[0])\n",
    "    \n",
    "    ax[0, 1].set_title(f'Coronal slice {slice_cor_n}')\n",
    "    ax[0, 1].imshow(images_arr[:, slice_cor_n, :], cmap='gray', \\\n",
    "                                  aspect = aspect_ratio[1])\n",
    "    ax[1, 1].set_title(f'Label for coronal slice {slice_cor_n}')\n",
    "    ax[1, 1].imshow(labels_arr[:, slice_cor_n, :], cmap='gray', \\\n",
    "                                  aspect = aspect_ratio[1])\n",
    "    \n",
    "    ax[0, 2].set_title(f'Sagittal slice {slice_sag_n}')\n",
    "    ax[0, 2].imshow(images_arr[:, :, slice_sag_n], cmap='gray', \\\n",
    "                                  aspect = aspect_ratio[2])\n",
    "    ax[1, 2].set_title(f'Label for sagittal slice {slice_sag_n}')\n",
    "    ax[1, 2].imshow(labels_arr[:, :, slice_sag_n], cmap='gray', \\\n",
    "                                  aspect = aspect_ratio[2])    \n",
    "    plt.show()"
   ]
  },
  {
   "cell_type": "code",
   "execution_count": 9,
   "metadata": {},
   "outputs": [
    {
     "data": {
      "image/png": "[encoded data removed]",
      "text/plain": [
       "<Figure size 720x432 with 6 Axes>"
      ]
     },
     "metadata": {
      "needs_background": "light"
     },
     "output_type": "display_data"
    }
   ],
   "source": [
    "# show the center slice for all orientations [17,25,17]\n",
    "show_n_slices(image, label)\n"
   ]
  },
  {
   "cell_type": "code",
   "execution_count": 10,
   "metadata": {},
   "outputs": [
    {
     "data": {
      "image/png": "[encoded data removed]",
      "text/plain": [
       "<Figure size 720x432 with 6 Axes>"
      ]
     },
     "metadata": {
      "needs_background": "light"
     },
     "output_type": "display_data"
    },
    {
     "data": {
      "image/png": "[encoded data removed]",
      "text/plain": [
       "<Figure size 720x432 with 6 Axes>"
      ]
     },
     "metadata": {
      "needs_background": "light"
     },
     "output_type": "display_data"
    }
   ],
   "source": [
    "# show a couple off-center slices\n",
    "show_n_slices(image, label, slices=[7,15,7])\n",
    "show_n_slices(image, label, slices=[27,35,27])"
   ]
  },
  {
   "cell_type": "markdown",
   "metadata": {},
   "source": [
    "Load volume into 3D Slicer to validate that your visualization is correct and get a feel for the shape of structures.Try to get a visualization like the one below (hint: while Slicer documentation is not particularly great, there are plenty of YouTube videos available! Just look it up on YouTube if you are not sure how to do something)\n",
    "\n",
    "![3D slicer](img/Slicer.png)"
   ]
  },
  {
   "cell_type": "code",
   "execution_count": 11,
   "metadata": {},
   "outputs": [
    {
     "data": {
      "image/png": "[encoded data removed]",
      "text/plain": [
       "<Figure size 360x360 with 1 Axes>"
      ]
     },
     "metadata": {
      "needs_background": "light"
     },
     "output_type": "display_data"
    },
    {
     "data": {
      "image/png": "[encoded data removed]",
      "text/plain": [
       "<Figure size 360x360 with 1 Axes>"
      ]
     },
     "metadata": {
      "needs_background": "light"
     },
     "output_type": "display_data"
    },
    {
     "data": {
      "image/png": "[encoded data removed]",
      "text/plain": [
       "<Figure size 360x360 with 1 Axes>"
      ]
     },
     "metadata": {
      "needs_background": "light"
     },
     "output_type": "display_data"
    }
   ],
   "source": [
    "# Stand out suggestion: use one of the simple Volume Rendering algorithms that we've\n",
    "# implemented in one of our earlier lessons to visualize some of these volumes\n",
    "\n",
    "# Lets visualize the Maximum Intensity Projections for all 3 orientations\n",
    "\n",
    "# Axial\n",
    "img_np = np.flip(image.T)\n",
    "mip = np.zeros((img_np.shape[1], img_np.shape[2]))\n",
    "for z in range(img_np.shape[0]):\n",
    "    mip = np.maximum(mip, img_np[z, :, :])\n",
    "plt.figure(figsize=(5,5))\n",
    "plt.imshow(mip, cmap=\"gray\")\n",
    "plt.title('Axial MIP', fontsize=18)\n",
    "plt.show()\n",
    "\n",
    "# Coronal\n",
    "mip = np.zeros((img_np.shape[0], img_np.shape[2]))\n",
    "for z in range(img_np.shape[1]):\n",
    "    mip = np.maximum(mip, img_np[:, z, :])\n",
    "plt.figure(figsize=(5,5))\n",
    "plt.imshow(mip, cmap=\"gray\")\n",
    "plt.title('Coronal MIP', fontsize=18)\n",
    "plt.show()\n",
    "\n",
    "# Sagittal\n",
    "mip = np.zeros((img_np.shape[0], img_np.shape[1]))\n",
    "for z in range(img_np.shape[2]):\n",
    "    mip = np.maximum(mip, img_np[:, :, z])\n",
    "plt.figure(figsize=(5,5))\n",
    "plt.imshow(mip, cmap=\"gray\")\n",
    "plt.title('Sagittal MIP', fontsize=18)\n",
    "plt.show()"
   ]
  },
  {
   "cell_type": "markdown",
   "metadata": {},
   "source": [
    "## Looking at single image data\n",
    "In this section we will look closer at the NIFTI representation of our volumes. In order to measure the physical volume of hippocampi, we need to understand the relationship between the sizes of our voxels and the physical world."
   ]
  },
  {
   "cell_type": "code",
   "execution_count": 12,
   "metadata": {
    "scrolled": true
   },
   "outputs": [
    {
     "name": "stdout",
     "output_type": "stream",
     "text": [
      "Image format is NIFTI1\n"
     ]
    }
   ],
   "source": [
    "# Nibabel supports many imaging formats, NIFTI being just one of them. I told you that our images \n",
    "# are in NIFTI, but you should confirm if this is indeed the format that we are dealing with\n",
    "# TASK: using .header_class attribute - what is the format of our images?\n",
    "image_img = nib.load(os.path.join(images_path_main, images_paths[0]))\n",
    "print(f'Image format is {str(image_img.header_class).split(\".\")[-2].upper()}')"
   ]
  },
  {
   "cell_type": "markdown",
   "metadata": {},
   "source": [
    "Further down we will be inspecting .header attribute that provides access to NIFTI metadata. You can use this resource as a reference for various fields: https://brainder.org/2012/09/23/the-nifti-file-format/"
   ]
  },
  {
   "cell_type": "code",
   "execution_count": 13,
   "metadata": {},
   "outputs": [
    {
     "name": "stdout",
     "output_type": "stream",
     "text": [
      "It is 8 bits per pixel\n"
     ]
    }
   ],
   "source": [
    "# TASK: How many bits per pixel are used?\n",
    "print(f'It is {image_img.header[\"bitpix\"]} bits per pixel')"
   ]
  },
  {
   "cell_type": "code",
   "execution_count": 14,
   "metadata": {},
   "outputs": [
    {
     "name": "stdout",
     "output_type": "stream",
     "text": [
      "Units of measurement are Milimeter (mm)\n"
     ]
    }
   ],
   "source": [
    "# TASK: What are the units of measurement?\n",
    "# dictionary for units\n",
    "xyzt_units_dic = {0: 'Unknown', 1: 'Meter (m)', 2: 'Milimeter (mm)', 3: 'Micron (µm)'}\n",
    "# need to convert to binary, extract first 2 bits, and then conver to decimals (base 2)\n",
    "coded_unit = int(bin(image_img.header[\"xyzt_units\"])[:4], 2)\n",
    "print(f'Units of measurement are {xyzt_units_dic[coded_unit]}')"
   ]
  },
  {
   "cell_type": "code",
   "execution_count": 15,
   "metadata": {},
   "outputs": [
    {
     "data": {
      "text/plain": [
       "('mm', 'sec')"
      ]
     },
     "execution_count": 15,
     "metadata": {},
     "output_type": "execute_result"
    }
   ],
   "source": [
    "hdr = image_img.header\n",
    "hdr.get_xyzt_units()"
   ]
  },
  {
   "cell_type": "code",
   "execution_count": 16,
   "metadata": {},
   "outputs": [
    {
     "name": "stdout",
     "output_type": "stream",
     "text": [
      "Grid Spacing: [1. 1. 1. 1. 1. 0. 0. 0.]\n"
     ]
    }
   ],
   "source": [
    "# TASK: Do we have a regular grid? What are grid spacings?\n",
    "# Both spatial and temporal measurement units, used for the dimensions \n",
    "# dim[1] to dim[4] (x,y,z,t)\n",
    "# pixdim[5] to dim[7] (x,y,z spacings)\n",
    "grid_all = image_img.header['pixdim']\n",
    "print(f'Grid Spacing: {grid_all}')"
   ]
  },
  {
   "cell_type": "code",
   "execution_count": 17,
   "metadata": {},
   "outputs": [
    {
     "name": "stdout",
     "output_type": "stream",
     "text": [
      "Dimensions: [ 3 35 51 35  1  1  1  1]\n",
      "\n",
      "The image orientation is RIS - Sagittal-Coronal-Axial\n",
      "Matrix is 35x51x35\n",
      "Voxels dimention is 1.0x1.0x1.0 mm³ with [0. 0. 0.] spacing\n"
     ]
    }
   ],
   "source": [
    "# TASK: What dimensions represent axial, sagittal, and coronal slices? How do you know?\n",
    "# by convention, the nifti format, to be RAS: \n",
    "# R: x-axis is Right-to-Left: dim[1], sagittal\n",
    "# A: y-axis is Anterior-to-Posterior: dim[2], coronal\n",
    "# I: z-axis is Inferior-to-Superior: dim[3], axial\n",
    "dim_all = image_img.header['dim']\n",
    "print(f'Dimensions: {dim_all}\\n')\n",
    "\n",
    "print('The image orientation is RIS - Sagittal-Coronal-Axial') \n",
    "print(f'Matrix is {dim_all[1]}x{dim_all[2]}x{dim_all[3]}')\n",
    "print(f'Voxels dimention is {grid_all[1]}x{grid_all[2]}x{grid_all[3]} mm\\u00b3 with {grid_all[5:8]} spacing')"
   ]
  },
  {
   "cell_type": "code",
   "execution_count": 18,
   "metadata": {},
   "outputs": [
    {
     "name": "stdout",
     "output_type": "stream",
     "text": [
      "Hippocamus volume of the hippocampus_001 image is 2948 mm³\n"
     ]
    }
   ],
   "source": [
    "# By now you should have enough information to decide what are dimensions of a single voxel\n",
    "# TASK: Compute the volume (in mm³) of a hippocampus using one of the labels you've loaded. \n",
    "# You should get a number between ~2200 and ~4500\n",
    "print(f'Hippocamus volume of the {labels_paths[0].split(os.sep)[-1][:-7]} image is {(label > 0).sum()} mm\\u00b3')"
   ]
  },
  {
   "cell_type": "markdown",
   "metadata": {},
   "source": [
    "## Plotting some charts"
   ]
  },
  {
   "cell_type": "code",
   "execution_count": 19,
   "metadata": {},
   "outputs": [],
   "source": [
    "# TASK: Plot a histogram of all volumes that we have in our dataset and see how \n",
    "# our dataset measures against a slice of a normal population represented by the chart below."
   ]
  },
  {
   "cell_type": "markdown",
   "metadata": {},
   "source": [
    "<img src=\"img/nomogram_fem_right.svg\" width=400 align=left>"
   ]
  },
  {
   "cell_type": "markdown",
   "metadata": {},
   "source": [
    "Do you see any outliers? Why do you think it's so (might be not immediately obvious, but it's always a good idea to inspect) outliers closer. If you haven't found the images that do not belong, the histogram may help you."
   ]
  },
  {
   "cell_type": "markdown",
   "metadata": {},
   "source": [
    "In the real world we would have precise information about the ages and conditions of our patients, and understanding how our dataset measures against population norm would be the integral part of clinical validation that we talked about in last lesson. Unfortunately, we do not have this information about this dataset, so we can only guess why it measures the way it is. If you would like to explore further, you can use the [calculator from HippoFit project](http://www.smanohar.com/biobank/calculator.html) to see how our dataset compares against different population slices"
   ]
  },
  {
   "cell_type": "markdown",
   "metadata": {},
   "source": [
    "Did you notice anything odd about the label files? We hope you did! The mask seems to have two classes, labeled with values `1` and `2` respectively. If you visualized sagittal or axial views, you might have gotten a good guess of what those are. Class 1 is the anterior segment of the hippocampus and class 2 is the posterior one. \n",
    "\n",
    "For the purpose of volume calculation we do not care about the distinction, however we will still train our network to differentiate between these two classes and the background"
   ]
  },
  {
   "cell_type": "code",
   "execution_count": 20,
   "metadata": {},
   "outputs": [
    {
     "name": "stdout",
     "output_type": "stream",
     "text": [
      "There are total 262 volumes\n"
     ]
    }
   ],
   "source": [
    "def get_label_volume(img_img_path, lbl_img_path):\n",
    "    '''\n",
    "    input: is a path to NIFTI image and corrsponding label\n",
    "    output: image matrix (array), image voxel dimentions (array), \n",
    "            label matrix (array), label voxel dimentions (array), labeled volume (float)\n",
    "    '''\n",
    "    lbl_img = nib.load(lbl_img_path)\n",
    "    lbl_arr = lbl_img.get_fdata()\n",
    "    vox_vol = lbl_img.header['pixdim'][1:4].prod()\n",
    "    \n",
    "    img_img = nib.load(img_img_path)\n",
    "    \n",
    "    return img_img.header['dim'][1:4], img_img.header['pixdim'][1:4], lbl_img.header['dim'][1:4], lbl_img.header['pixdim'][1:4], vox_vol*(lbl_arr > 0).sum()\n",
    "\n",
    "#get_label_volume(os.path.join(lbl_path_main, lbl_paths[10]))\n",
    "\n",
    "# compute all volumes\n",
    "volumes_all_dic = {path_tmp: get_label_volume(os.path.join(images_path_main, path_tmp), \\\n",
    "                                                 os.path.join(labels_path_main, path_tmp)) \\\n",
    "               for path_tmp in labels_paths}\n",
    "\n",
    "print(f'There are total {len(volumes_all_dic.keys())} volumes')"
   ]
  },
  {
   "cell_type": "code",
   "execution_count": 21,
   "metadata": {},
   "outputs": [],
   "source": [
    "import pandas as pd"
   ]
  },
  {
   "cell_type": "code",
   "execution_count": 22,
   "metadata": {},
   "outputs": [
    {
     "data": {
      "text/html": [
       "<div>\n",
       "<style scoped>\n",
       "    .dataframe tbody tr th:only-of-type {\n",
       "        vertical-align: middle;\n",
       "    }\n",
       "\n",
       "    .dataframe tbody tr th {\n",
       "        vertical-align: top;\n",
       "    }\n",
       "\n",
       "    .dataframe thead th {\n",
       "        text-align: right;\n",
       "    }\n",
       "</style>\n",
       "<table border=\"1\" class=\"dataframe\">\n",
       "  <thead>\n",
       "    <tr style=\"text-align: right;\">\n",
       "      <th></th>\n",
       "      <th>image_name</th>\n",
       "      <th>img_matrix</th>\n",
       "      <th>img_voxel_size</th>\n",
       "      <th>lbl_matrix</th>\n",
       "      <th>lbl_voxel_size</th>\n",
       "      <th>lbl_volume</th>\n",
       "    </tr>\n",
       "  </thead>\n",
       "  <tbody>\n",
       "    <tr>\n",
       "      <th>0</th>\n",
       "      <td>hippocampus_001.nii.gz</td>\n",
       "      <td>[35, 51, 35]</td>\n",
       "      <td>[1.0, 1.0, 1.0]</td>\n",
       "      <td>[35, 51, 35]</td>\n",
       "      <td>[1.0, 1.0, 1.0]</td>\n",
       "      <td>2948.0</td>\n",
       "    </tr>\n",
       "    <tr>\n",
       "      <th>1</th>\n",
       "      <td>hippocampus_003.nii.gz</td>\n",
       "      <td>[34, 52, 35]</td>\n",
       "      <td>[1.0, 1.0, 1.0]</td>\n",
       "      <td>[34, 52, 35]</td>\n",
       "      <td>[1.0, 1.0, 1.0]</td>\n",
       "      <td>3353.0</td>\n",
       "    </tr>\n",
       "    <tr>\n",
       "      <th>2</th>\n",
       "      <td>hippocampus_004.nii.gz</td>\n",
       "      <td>[36, 52, 38]</td>\n",
       "      <td>[1.0, 1.0, 1.0]</td>\n",
       "      <td>[36, 52, 38]</td>\n",
       "      <td>[1.0, 1.0, 1.0]</td>\n",
       "      <td>3698.0</td>\n",
       "    </tr>\n",
       "    <tr>\n",
       "      <th>3</th>\n",
       "      <td>hippocampus_006.nii.gz</td>\n",
       "      <td>[35, 52, 34]</td>\n",
       "      <td>[1.0, 1.0, 1.0]</td>\n",
       "      <td>[35, 52, 34]</td>\n",
       "      <td>[1.0, 1.0, 1.0]</td>\n",
       "      <td>4263.0</td>\n",
       "    </tr>\n",
       "    <tr>\n",
       "      <th>4</th>\n",
       "      <td>hippocampus_007.nii.gz</td>\n",
       "      <td>[34, 47, 40]</td>\n",
       "      <td>[1.0, 1.0, 1.0]</td>\n",
       "      <td>[34, 47, 40]</td>\n",
       "      <td>[1.0, 1.0, 1.0]</td>\n",
       "      <td>3372.0</td>\n",
       "    </tr>\n",
       "    <tr>\n",
       "      <th>5</th>\n",
       "      <td>hippocampus_008.nii.gz</td>\n",
       "      <td>[36, 48, 40]</td>\n",
       "      <td>[1.0, 1.0, 1.0]</td>\n",
       "      <td>[36, 48, 40]</td>\n",
       "      <td>[1.0, 1.0, 1.0]</td>\n",
       "      <td>3248.0</td>\n",
       "    </tr>\n",
       "    <tr>\n",
       "      <th>6</th>\n",
       "      <td>hippocampus_010.nii.gz</td>\n",
       "      <td>[512, 512, 241]</td>\n",
       "      <td>[0.597656, 0.597656, 1.25]</td>\n",
       "      <td>[36, 50, 31]</td>\n",
       "      <td>[1.0, 1.0, 1.0]</td>\n",
       "      <td>3456.0</td>\n",
       "    </tr>\n",
       "    <tr>\n",
       "      <th>7</th>\n",
       "      <td>hippocampus_011.nii.gz</td>\n",
       "      <td>[36, 50, 31]</td>\n",
       "      <td>[1.0, 1.0, 1.0]</td>\n",
       "      <td>[36, 50, 31]</td>\n",
       "      <td>[1.0, 1.0, 1.0]</td>\n",
       "      <td>3456.0</td>\n",
       "    </tr>\n",
       "    <tr>\n",
       "      <th>8</th>\n",
       "      <td>hippocampus_014.nii.gz</td>\n",
       "      <td>[39, 50, 40]</td>\n",
       "      <td>[1.0, 1.0, 1.0]</td>\n",
       "      <td>[39, 50, 40]</td>\n",
       "      <td>[1.0, 1.0, 1.0]</td>\n",
       "      <td>3622.0</td>\n",
       "    </tr>\n",
       "    <tr>\n",
       "      <th>9</th>\n",
       "      <td>hippocampus_015.nii.gz</td>\n",
       "      <td>[42, 51, 28]</td>\n",
       "      <td>[1.0, 1.0, 1.0]</td>\n",
       "      <td>[42, 51, 28]</td>\n",
       "      <td>[1.0, 1.0, 1.0]</td>\n",
       "      <td>2819.0</td>\n",
       "    </tr>\n",
       "    <tr>\n",
       "      <th>10</th>\n",
       "      <td>hippocampus_017.nii.gz</td>\n",
       "      <td>[35, 48, 32]</td>\n",
       "      <td>[1.0, 1.0, 1.0]</td>\n",
       "      <td>[35, 48, 32]</td>\n",
       "      <td>[1.0, 1.0, 1.0]</td>\n",
       "      <td>3478.0</td>\n",
       "    </tr>\n",
       "    <tr>\n",
       "      <th>11</th>\n",
       "      <td>hippocampus_019.nii.gz</td>\n",
       "      <td>[36, 47, 41]</td>\n",
       "      <td>[1.0, 1.0, 1.0]</td>\n",
       "      <td>[36, 47, 41]</td>\n",
       "      <td>[1.0, 1.0, 1.0]</td>\n",
       "      <td>3356.0</td>\n",
       "    </tr>\n",
       "    <tr>\n",
       "      <th>12</th>\n",
       "      <td>hippocampus_020.nii.gz</td>\n",
       "      <td>[36, 46, 43]</td>\n",
       "      <td>[1.0, 1.0, 1.0]</td>\n",
       "      <td>[36, 46, 43]</td>\n",
       "      <td>[1.0, 1.0, 1.0]</td>\n",
       "      <td>3611.0</td>\n",
       "    </tr>\n",
       "    <tr>\n",
       "      <th>13</th>\n",
       "      <td>hippocampus_023.nii.gz</td>\n",
       "      <td>[35, 51, 35]</td>\n",
       "      <td>[1.0, 1.0, 1.0]</td>\n",
       "      <td>[35, 51, 35]</td>\n",
       "      <td>[1.0, 1.0, 1.0]</td>\n",
       "      <td>3568.0</td>\n",
       "    </tr>\n",
       "    <tr>\n",
       "      <th>14</th>\n",
       "      <td>hippocampus_024.nii.gz</td>\n",
       "      <td>[38, 52, 33]</td>\n",
       "      <td>[1.0, 1.0, 1.0]</td>\n",
       "      <td>[38, 52, 33]</td>\n",
       "      <td>[1.0, 1.0, 1.0]</td>\n",
       "      <td>4030.0</td>\n",
       "    </tr>\n",
       "    <tr>\n",
       "      <th>15</th>\n",
       "      <td>hippocampus_025.nii.gz</td>\n",
       "      <td>[35, 48, 35]</td>\n",
       "      <td>[1.0, 1.0, 1.0]</td>\n",
       "      <td>[35, 48, 35]</td>\n",
       "      <td>[1.0, 1.0, 1.0]</td>\n",
       "      <td>3326.0</td>\n",
       "    </tr>\n",
       "    <tr>\n",
       "      <th>16</th>\n",
       "      <td>hippocampus_026.nii.gz</td>\n",
       "      <td>[36, 50, 36]</td>\n",
       "      <td>[1.0, 1.0, 1.0]</td>\n",
       "      <td>[36, 50, 36]</td>\n",
       "      <td>[1.0, 1.0, 1.0]</td>\n",
       "      <td>3628.0</td>\n",
       "    </tr>\n",
       "    <tr>\n",
       "      <th>17</th>\n",
       "      <td>hippocampus_033.nii.gz</td>\n",
       "      <td>[33, 48, 38]</td>\n",
       "      <td>[1.0, 1.0, 1.0]</td>\n",
       "      <td>[33, 48, 38]</td>\n",
       "      <td>[1.0, 1.0, 1.0]</td>\n",
       "      <td>3423.0</td>\n",
       "    </tr>\n",
       "    <tr>\n",
       "      <th>18</th>\n",
       "      <td>hippocampus_034.nii.gz</td>\n",
       "      <td>[36, 49, 40]</td>\n",
       "      <td>[1.0, 1.0, 1.0]</td>\n",
       "      <td>[36, 49, 40]</td>\n",
       "      <td>[1.0, 1.0, 1.0]</td>\n",
       "      <td>3375.0</td>\n",
       "    </tr>\n",
       "    <tr>\n",
       "      <th>19</th>\n",
       "      <td>hippocampus_035.nii.gz</td>\n",
       "      <td>[35, 47, 37]</td>\n",
       "      <td>[1.0, 1.0, 1.0]</td>\n",
       "      <td>[35, 47, 37]</td>\n",
       "      <td>[1.0, 1.0, 1.0]</td>\n",
       "      <td>3450.0</td>\n",
       "    </tr>\n",
       "  </tbody>\n",
       "</table>\n",
       "</div>"
      ],
      "text/plain": [
       "                image_name       img_matrix              img_voxel_size  \\\n",
       "0   hippocampus_001.nii.gz     [35, 51, 35]             [1.0, 1.0, 1.0]   \n",
       "1   hippocampus_003.nii.gz     [34, 52, 35]             [1.0, 1.0, 1.0]   \n",
       "2   hippocampus_004.nii.gz     [36, 52, 38]             [1.0, 1.0, 1.0]   \n",
       "3   hippocampus_006.nii.gz     [35, 52, 34]             [1.0, 1.0, 1.0]   \n",
       "4   hippocampus_007.nii.gz     [34, 47, 40]             [1.0, 1.0, 1.0]   \n",
       "5   hippocampus_008.nii.gz     [36, 48, 40]             [1.0, 1.0, 1.0]   \n",
       "6   hippocampus_010.nii.gz  [512, 512, 241]  [0.597656, 0.597656, 1.25]   \n",
       "7   hippocampus_011.nii.gz     [36, 50, 31]             [1.0, 1.0, 1.0]   \n",
       "8   hippocampus_014.nii.gz     [39, 50, 40]             [1.0, 1.0, 1.0]   \n",
       "9   hippocampus_015.nii.gz     [42, 51, 28]             [1.0, 1.0, 1.0]   \n",
       "10  hippocampus_017.nii.gz     [35, 48, 32]             [1.0, 1.0, 1.0]   \n",
       "11  hippocampus_019.nii.gz     [36, 47, 41]             [1.0, 1.0, 1.0]   \n",
       "12  hippocampus_020.nii.gz     [36, 46, 43]             [1.0, 1.0, 1.0]   \n",
       "13  hippocampus_023.nii.gz     [35, 51, 35]             [1.0, 1.0, 1.0]   \n",
       "14  hippocampus_024.nii.gz     [38, 52, 33]             [1.0, 1.0, 1.0]   \n",
       "15  hippocampus_025.nii.gz     [35, 48, 35]             [1.0, 1.0, 1.0]   \n",
       "16  hippocampus_026.nii.gz     [36, 50, 36]             [1.0, 1.0, 1.0]   \n",
       "17  hippocampus_033.nii.gz     [33, 48, 38]             [1.0, 1.0, 1.0]   \n",
       "18  hippocampus_034.nii.gz     [36, 49, 40]             [1.0, 1.0, 1.0]   \n",
       "19  hippocampus_035.nii.gz     [35, 47, 37]             [1.0, 1.0, 1.0]   \n",
       "\n",
       "      lbl_matrix   lbl_voxel_size  lbl_volume  \n",
       "0   [35, 51, 35]  [1.0, 1.0, 1.0]      2948.0  \n",
       "1   [34, 52, 35]  [1.0, 1.0, 1.0]      3353.0  \n",
       "2   [36, 52, 38]  [1.0, 1.0, 1.0]      3698.0  \n",
       "3   [35, 52, 34]  [1.0, 1.0, 1.0]      4263.0  \n",
       "4   [34, 47, 40]  [1.0, 1.0, 1.0]      3372.0  \n",
       "5   [36, 48, 40]  [1.0, 1.0, 1.0]      3248.0  \n",
       "6   [36, 50, 31]  [1.0, 1.0, 1.0]      3456.0  \n",
       "7   [36, 50, 31]  [1.0, 1.0, 1.0]      3456.0  \n",
       "8   [39, 50, 40]  [1.0, 1.0, 1.0]      3622.0  \n",
       "9   [42, 51, 28]  [1.0, 1.0, 1.0]      2819.0  \n",
       "10  [35, 48, 32]  [1.0, 1.0, 1.0]      3478.0  \n",
       "11  [36, 47, 41]  [1.0, 1.0, 1.0]      3356.0  \n",
       "12  [36, 46, 43]  [1.0, 1.0, 1.0]      3611.0  \n",
       "13  [35, 51, 35]  [1.0, 1.0, 1.0]      3568.0  \n",
       "14  [38, 52, 33]  [1.0, 1.0, 1.0]      4030.0  \n",
       "15  [35, 48, 35]  [1.0, 1.0, 1.0]      3326.0  \n",
       "16  [36, 50, 36]  [1.0, 1.0, 1.0]      3628.0  \n",
       "17  [33, 48, 38]  [1.0, 1.0, 1.0]      3423.0  \n",
       "18  [36, 49, 40]  [1.0, 1.0, 1.0]      3375.0  \n",
       "19  [35, 47, 37]  [1.0, 1.0, 1.0]      3450.0  "
      ]
     },
     "metadata": {},
     "output_type": "display_data"
    },
    {
     "name": "stdout",
     "output_type": "stream",
     "text": [
      "Volume statistics\n"
     ]
    },
    {
     "data": {
      "text/plain": [
       "count      262.000000\n",
       "mean      3496.311566\n",
       "std       3273.781003\n",
       "min       2382.000000\n",
       "25%       2951.500000\n",
       "50%       3330.000000\n",
       "75%       3626.750000\n",
       "max      55823.630371\n",
       "Name: lbl_volume, dtype: float64"
      ]
     },
     "metadata": {},
     "output_type": "display_data"
    }
   ],
   "source": [
    "df_all = pd.DataFrame.from_dict(volumes_all_dic, orient='index').reset_index()\n",
    "df_all.columns=['image_name', 'img_matrix', 'img_voxel_size', 'lbl_matrix', \\\n",
    "                'lbl_voxel_size', 'lbl_volume']\n",
    "display(df_all.head(20))\n",
    "# check volume stats for outliers\n",
    "print('Volume statistics')\n",
    "display(df_all['lbl_volume'].describe())"
   ]
  },
  {
   "cell_type": "markdown",
   "metadata": {},
   "source": [
    "Let's find what is wrong with the images with the hippocampal volume below 2200mm3 and above 4500mm3, and if there is any images with voxels different from 1 mm3 or matrix and voxel size are different for image and label"
   ]
  },
  {
   "cell_type": "code",
   "execution_count": 23,
   "metadata": {},
   "outputs": [
    {
     "data": {
      "text/html": [
       "<div>\n",
       "<style scoped>\n",
       "    .dataframe tbody tr th:only-of-type {\n",
       "        vertical-align: middle;\n",
       "    }\n",
       "\n",
       "    .dataframe tbody tr th {\n",
       "        vertical-align: top;\n",
       "    }\n",
       "\n",
       "    .dataframe thead th {\n",
       "        text-align: right;\n",
       "    }\n",
       "</style>\n",
       "<table border=\"1\" class=\"dataframe\">\n",
       "  <thead>\n",
       "    <tr style=\"text-align: right;\">\n",
       "      <th></th>\n",
       "      <th>image_name</th>\n",
       "      <th>img_matrix</th>\n",
       "      <th>img_voxel_size</th>\n",
       "      <th>lbl_matrix</th>\n",
       "      <th>lbl_voxel_size</th>\n",
       "      <th>lbl_volume</th>\n",
       "    </tr>\n",
       "  </thead>\n",
       "  <tbody>\n",
       "    <tr>\n",
       "      <th>6</th>\n",
       "      <td>hippocampus_010.nii.gz</td>\n",
       "      <td>[512, 512, 241]</td>\n",
       "      <td>[0.597656, 0.597656, 1.25]</td>\n",
       "      <td>[36, 50, 31]</td>\n",
       "      <td>[1.0, 1.0, 1.0]</td>\n",
       "      <td>3456.000000</td>\n",
       "    </tr>\n",
       "    <tr>\n",
       "      <th>179</th>\n",
       "      <td>hippocampus_281.nii.gz</td>\n",
       "      <td>[512, 512, 31]</td>\n",
       "      <td>[0.785156, 0.785156, 7.5]</td>\n",
       "      <td>[512, 512, 94]</td>\n",
       "      <td>[0.734375, 0.734375, 5.0]</td>\n",
       "      <td>55823.630371</td>\n",
       "    </tr>\n",
       "  </tbody>\n",
       "</table>\n",
       "</div>"
      ],
      "text/plain": [
       "                 image_name       img_matrix              img_voxel_size  \\\n",
       "6    hippocampus_010.nii.gz  [512, 512, 241]  [0.597656, 0.597656, 1.25]   \n",
       "179  hippocampus_281.nii.gz   [512, 512, 31]   [0.785156, 0.785156, 7.5]   \n",
       "\n",
       "         lbl_matrix             lbl_voxel_size    lbl_volume  \n",
       "6      [36, 50, 31]            [1.0, 1.0, 1.0]   3456.000000  \n",
       "179  [512, 512, 94]  [0.734375, 0.734375, 5.0]  55823.630371  "
      ]
     },
     "execution_count": 23,
     "metadata": {},
     "output_type": "execute_result"
    }
   ],
   "source": [
    "suspicious_volumes = df_all[(df_all['lbl_volume'] < 2200) | \\\n",
    "                            (df_all['lbl_volume'] > 4500) | \\\n",
    "                            (df_all['lbl_voxel_size'].apply(lambda x: x.prod()) != 1.) | \\\n",
    "                            (df_all['img_voxel_size'].apply(lambda x: x.prod()) != 1.) | \\\n",
    "                            ((df_all['img_matrix'].apply(lambda x: x.prod()) != \\\n",
    "                            df_all['lbl_matrix'].apply(lambda x: x.prod()))) ]\n",
    "suspicious_volumes"
   ]
  },
  {
   "cell_type": "code",
   "execution_count": 24,
   "metadata": {},
   "outputs": [
    {
     "name": "stdout",
     "output_type": "stream",
     "text": [
      "Outliers: \n",
      "['hippocampus_118.nii.gz' 'hippocampus_010.nii.gz'\n",
      " 'hippocampus_281.nii.gz']\n",
      "Total images before outliers removal 262\n",
      "Total images after outliers removal 260\n"
     ]
    }
   ],
   "source": [
    "# remove outliers form the dataframe\n",
    "df_all_final = df_all.copy()\n",
    "for name_tmp in suspicious_volumes['image_name']:\n",
    "    df_all_final.drop(df_all_final[df_all_final['image_name'] == name_tmp].index, inplace=True)\n",
    "# print outliers\n",
    "outlier_final_arr = np.array(outlier_images_paths + list(suspicious_volumes.image_name))\n",
    "print(f'Outliers: \\n{outlier_final_arr}')\n",
    "print(f'Total images before outliers removal {df_all.shape[0]}')\n",
    "print(f'Total images after outliers removal {df_all_final.shape[0]}')"
   ]
  },
  {
   "cell_type": "code",
   "execution_count": 25,
   "metadata": {},
   "outputs": [
    {
     "data": {
      "image/png": "[encoded data removed]",
      "text/plain": [
       "<Figure size 504x504 with 1 Axes>"
      ]
     },
     "metadata": {
      "needs_background": "light"
     },
     "output_type": "display_data"
    }
   ],
   "source": [
    "# plot histogram\n",
    "plt.figure(figsize=(7,7))\n",
    "df_all_final['lbl_volume'].plot.hist(bins=25, alpha=0.7)\n",
    "plt.title(f'Hippocampla Volume distribution\\n', fontsize=18)\n",
    "plt.xlabel(f'Volume, mm\\u00b3', fontsize=14)\n",
    "plt.ylabel('Frequency', fontsize=14)\n",
    "plt.show()"
   ]
  },
  {
   "cell_type": "code",
   "execution_count": 26,
   "metadata": {},
   "outputs": [],
   "source": [
    "# TASK: Copy the clean dataset to the output folder inside section1/out. You will use it in the next Section\n",
    "cwd = os.getcwd()\n",
    "img_out = os.path.join(cwd, '/images/')\n",
    "lbl_out = os.path.join(cwd, '/labels/')\n",
    "\n",
    "if os.path.isdir(img_out) == False:\n",
    "    os.mkdir(img_out)\n",
    "if os.path.isdir(lbl_out) == False:\n",
    "    os.mkdir(lbl_out)\n",
    "\n",
    "for name_tmp in df_all_final['image_name']:\n",
    "    shutil.copy(os.path.join(images_path_main, name_tmp), img_out)\n",
    "    shutil.copy(os.path.join(labels_path_main, name_tmp), lbl_out)\n"
   ]
  },
  {
   "cell_type": "code",
   "execution_count": 27,
   "metadata": {},
   "outputs": [
    {
     "name": "stdout",
     "output_type": "stream",
     "text": [
      "There are 260 images in: /images/\n",
      "There are 260 images in: /labels/\n"
     ]
    }
   ],
   "source": [
    "# check how many images in each out folder\n",
    "print(f'There are {len(os.listdir(img_out))} images in: {img_out[-22:]}')\n",
    "print(f'There are {len(os.listdir(lbl_out))} images in: {lbl_out[-22:]}')"
   ]
  },
  {
   "cell_type": "markdown",
   "metadata": {},
   "source": [
    "The ‘dirty’ dataset consists of:\n",
    "263 files in \"image\" folder\n",
    "262 files in \"labels\" folder\n",
    "\n",
    "We have identified and removed these 3 susticious files:\n",
    "\n",
    "* 'hippocampus_118.nii.gz' – it does not have a label\n",
    "* ‘hippocampus_010.nii.gz’ and ‘hippocampus_281.nii.gz’  – these two files have a different image matrix size and image volume size.\n",
    "\n",
    "So after removing these 3 suspicious files, we have 260 files in “image” folder and 260 files in “labels” folder\n"
   ]
  },
  {
   "cell_type": "markdown",
   "metadata": {},
   "source": [
    "## Final remarks\n",
    "\n",
    "Congratulations! You have finished Section 1. \n",
    "\n",
    "In this section you have inspected a dataset of MRI scans and related segmentations, represented as NIFTI files. We have visualized some slices, and understood the layout of the data. We have inspected file headers to understand what how the image dimensions relate to the physical world and we have understood how to measure our volume. We have then inspected dataset for outliers, and have created a clean set that is ready for consumption by our ML algorithm. \n",
    "\n",
    "In the next section you will create training and testing pipelines for a UNet-based machine learning model, run and monitor the execution, and will produce test metrics. This will arm you with all you need to use the model in the clinical context and reason about its performance!"
   ]
  }
 ],
 "metadata": {
  "kernelspec": {
   "display_name": "Python 3",
   "language": "python",
   "name": "python3"
  },
  "language_info": {
   "codemirror_mode": {
    "name": "ipython",
    "version": 3
   },
   "file_extension": ".py",
   "mimetype": "text/x-python",
   "name": "python",
   "nbconvert_exporter": "python",
   "pygments_lexer": "ipython3",
   "version": "3.8.2"
  }
 },
 "nbformat": 4,
 "nbformat_minor": 2
}
